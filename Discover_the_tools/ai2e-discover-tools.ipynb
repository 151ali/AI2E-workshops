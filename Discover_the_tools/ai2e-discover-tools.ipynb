{
 "cells": [
  {
   "cell_type": "markdown",
   "metadata": {
    "slideshow": {
     "slide_type": "slide"
    }
   },
   "source": [
    "<img src=\"../assets/images/Cover.png\" alt=\"Cover\" title=\"AI2E Cover\" />"
   ]
  },
  {
   "cell_type": "markdown",
   "metadata": {
    "slideshow": {
     "slide_type": "slide"
    }
   },
   "source": [
    "## AI2E - 1 - Discover the tools \n",
    "This is the first notebook of a serie of Machine learning workshops. To start our journey in the best way possible, we will get to know the tools we're going to work with : Anaconda, Jupyter Notebook. We will conclude this workshop by going through a small algerian dataset and getting to know interesting python packages that will help us explore the datasets and study them. \n",
    "\n",
    "### Content \n",
    "1. Python Cheat Sheet \n",
    "2. What is Anaconda ?  \n",
    "2. What is Jupyter Notebook ? How can I use it ? \n",
    "3. Welcome to NumPy \n",
    "4. Data exploration (Part 1) "
   ]
  },
  {
   "cell_type": "markdown",
   "metadata": {
    "slideshow": {
     "slide_type": "slide"
    }
   },
   "source": [
    "## 1. What is Anaconda ? \n",
    "\n",
    "[Anaconda](https://www.anaconda.com/) is a distribution of packages built for data science. It comes with conda, a package and environment manager. You'll be using conda to create environments for isolating your projects that use different versions of Python and/or different packages. You'll also use it to install, uninstall, and update packages in your environments. Using Anaconda has made my life working with data much more pleasant. \n",
    "\n",
    "When working on different projects on the same computer you come across a pretty complicated issue where 2 projects use the same package but in 2 separate versions (For example Pytorch 0.4 VS Pytorch 1.0). One solution is to use [virtualenv](https://virtualenv.pypa.io/en/latest/). It lets you create two isolated Python environment for each project. \n",
    "Although virtualenv works even for data science projects, in this situation Anaconda is the way to go. It is specifically built for Data projects. "
   ]
  },
  {
   "cell_type": "markdown",
   "metadata": {
    "slideshow": {
     "slide_type": "subslide"
    }
   },
   "source": [
    "\n",
    "#### Install Anaconda/Miniconda \n",
    "\n",
    "**Download** the latest version of `miniconda` that matches your system.\n",
    "\n",
    "|        | Linux | Mac | Windows | \n",
    "|--------|-------|-----|---------|\n",
    "| 64-bit | [64-bit (bash installer)][lin64] | [64-bit (bash installer)][mac64] | [64-bit (exe installer)][win64]\n",
    "| 32-bit | [32-bit (bash installer)][lin32] |  | [32-bit (exe installer)][win32]\n",
    "\n",
    "[win64]: https://repo.continuum.io/miniconda/Miniconda3-latest-Windows-x86_64.exe\n",
    "[win32]: https://repo.continuum.io/miniconda/Miniconda3-latest-Windows-x86.exe\n",
    "[mac64]: https://repo.continuum.io/miniconda/Miniconda3-latest-MacOSX-x86_64.sh\n",
    "[lin64]: https://repo.continuum.io/miniconda/Miniconda3-latest-Linux-x86_64.sh\n",
    "[lin32]: https://repo.continuum.io/miniconda/Miniconda3-latest-Linux-x86.sh\n",
    "\n",
    "**Install** [miniconda](http://conda.pydata.org/miniconda.html) on your machine. Detailed instructions:\n",
    "\n",
    "- **Linux:** http://conda.pydata.org/docs/install/quick.html#linux-miniconda-install\n",
    "- **Mac:** http://conda.pydata.org/docs/install/quick.html#os-x-miniconda-install\n",
    "- **Windows:** http://conda.pydata.org/docs/install/quick.html#windows-miniconda-install"
   ]
  },
  {
   "cell_type": "markdown",
   "metadata": {
    "slideshow": {
     "slide_type": "subslide"
    }
   },
   "source": [
    "#### Create an environment\n",
    "It is very simple to create an environment using Conda. Here's the general structure of the create command with the most important options : \n",
    "\n",
    "``` conda create -n [NameofEnv] python=[version] [nameofPackage]=[version] --prefix [path\\to\\env\\directory]```\n",
    "\n",
    "By default, the environment created by conda resides in /Users/user-name/miniconda3/envs. "
   ]
  },
  {
   "cell_type": "markdown",
   "metadata": {
    "slideshow": {
     "slide_type": "subslide"
    }
   },
   "source": [
    "#### What is an environment.yml file ? \n",
    "An evironment.yml file is configuration file for your python environment created with Conda. It contains the name of the environment and the packages it contains.\n",
    "\n",
    "<img src=\"images/env.png\" width=\"60%\">\n",
    "\n",
    "    channels : from where we get these packages \n",
    "    \n",
    "You can create an environment from a configuration file as follow : \n",
    "```conda env create -f environment.yml``` \n",
    "\n",
    "It also recommended, to include the requirement.txt for your project for those who doesn't use Conda. \n",
    "(to get this file ``` pip freeze > requirements.txt ``` )"
   ]
  },
  {
   "cell_type": "markdown",
   "metadata": {
    "slideshow": {
     "slide_type": "subslide"
    }
   },
   "source": [
    "#### Install additional Packages \n",
    "#### Conda Revisions 👍 \n",
    "Conda not only helps you create isolated environment, but it keeps track of the packages installed. This allows you to rollback to another revision. \n",
    "\n",
    "<ins>Example : </ins>\n",
    "\n",
    "1. We create an environment names 'test' : ``` conda create -n test python=3 ```\n",
    "2. We activate the environment : ``` conda activate test ```\n",
    "3. We install numpy : ``` conda install numpy```\n",
    "4. We install pandas : ``` conda install pandas```\n",
    "5. The list of revisions is as follow : ```conda list --revisions``` \n",
    "\n",
    "We notice each revision with an id. If we want to get back to how packages were in rev 1, we simply call this command : ```conda install --revision 1``` \n",
    "\n",
    "We can also recheck the list of revisions to ensure the changes were made. "
   ]
  },
  {
   "cell_type": "markdown",
   "metadata": {
    "slideshow": {
     "slide_type": "subslide"
    }
   },
   "source": [
    "<img src=\"images/revisions.png\" align=\"center\" width=\"40%\">"
   ]
  },
  {
   "cell_type": "markdown",
   "metadata": {
    "slideshow": {
     "slide_type": "subslide"
    }
   },
   "source": [
    "#### Additional Information \n",
    "Conda documentation is super clear, we encourage you to use it whenever it is necessary : [https://docs.anaconda.com/](https://docs.anaconda.com/) \n",
    "\n",
    "You can check here a [cheat sheet](https://docs.conda.io/projects/conda/en/4.6.0/_downloads/52a95608c49671267e40c689e0bc00ca/conda-cheatsheet.pdf) gathering all the important commands you need to know. \n",
    "\n",
    "If your curiosity hasn’t been satisfied and you still want to know more about virtual environments, we highly recommend : \n",
    "* [Some Myths and Misconceptions about Conda](https://jakevdp.github.io/blog/2016/08/25/conda-myths-and-misconceptions/) 😛 \n",
    "* [Everything you need to know about Anaconda by DZone](https://dzone.com/articles/python-anaconda-tutorial-everything-you-need-to-kn) \n",
    "* Get to know the Anaconda Navigator with [this tutorial](https://linuxhint.com/anaconda-python-tutorial/)\n",
    "    "
   ]
  },
  {
   "cell_type": "markdown",
   "metadata": {
    "slideshow": {
     "slide_type": "slide"
    }
   },
   "source": [
    "## What is Jupyter Notebook ? \n",
    "\n",
    "A [Jupyter Notebook](https://jupyter.org/) is a web application that allows you to combine explanatory text, math equations, code, and visualizations all in one easily sharable document. The name Jupyter comes from the combination of Julia, Python, and R. If you're interested, here's a [list of available kernels](https://github.com/jupyter/jupyter/wiki/Jupyter-kernels).\n",
    "\n",
    "In these kinds of notebooks, when dealing with a data science project, you could download the data, run the code in the notebook, and repeat the analysis or the training as long as you want to in the order you need to. \n",
    "\n",
    "Notebooks have quickly become an essential tool when working with data. You'll find them being used for data cleaning and exploration, visualization, machine learning, and big data analysis. You can find in these repository a lot of examples with the different topics we're going to tackle in AI2E. \n",
    "\n",
    "\n",
    "Without notebooks, your projects will be divided in separate files that contains the documentation, the code and the visualizations. \n",
    "\n",
    "*You don't find it cool yet ? \n",
    "Notebooks are rendered automatically by GitHub !* 😀"
   ]
  },
  {
   "cell_type": "markdown",
   "metadata": {
    "slideshow": {
     "slide_type": "subslide"
    }
   },
   "source": [
    "\n",
    "Let's create an example notebook. \n",
    "1. Go to the directory where you want the notebook to be.\n",
    "2. Run the following command : ``` jupyter notebook ``` \n",
    "3. Click on New and choose a kernel (Python3 in our case) \n",
    "4. Create a cell --> Set the type to 'Code'\n",
    "5. add ``` print('Hello World') ``` to the cell \n",
    "6. Run the cell by using shift + Enter or click on the run button on the top. \n",
    "\n"
   ]
  },
  {
   "cell_type": "markdown",
   "metadata": {
    "slideshow": {
     "slide_type": "subslide"
    }
   },
   "source": [
    "#### More info ! 🤓\n",
    "\n",
    "* You'll often want to download it as an HTML file to share with others who aren't using Jupyter. Also, you can download the notebook as a normal Python file where all the code will run like normal. The Markdown and reST formats are great for using notebooks in blogs or documentation.\n",
    "\n",
    "* **Magic Keywords :**\n",
    "    * %timeit : helps timing your code.\n",
    "    * %matplotlib inline : helps show your visialization as a result of a cell run. \n",
    "    * %pdb : enable debugging in the notebook.\n",
    "    * [List of all magic keywords] (https://ipython.readthedocs.io/en/stable/interactive/magics.html) \n",
    "    \n",
    "Let's try the debugging! \n"
   ]
  },
  {
   "cell_type": "code",
   "execution_count": 1,
   "metadata": {
    "slideshow": {
     "slide_type": "slide"
    }
   },
   "outputs": [
    {
     "name": "stdout",
     "output_type": "stream",
     "text": [
      "Automatic pdb calling has been turned ON\n"
     ]
    }
   ],
   "source": [
    "%pdb"
   ]
  },
  {
   "cell_type": "code",
   "execution_count": 2,
   "metadata": {
    "slideshow": {
     "slide_type": "fragment"
    }
   },
   "outputs": [
    {
     "ename": "TypeError",
     "evalue": "unsupported operand type(s) for +: 'int' and 'str'",
     "output_type": "error",
     "traceback": [
      "\u001b[0;31m---------------------------------------------------------------------------\u001b[0m",
      "\u001b[0;31mTypeError\u001b[0m                                 Traceback (most recent call last)",
      "\u001b[0;32m<ipython-input-2-59b1bb397993>\u001b[0m in \u001b[0;36m<module>\u001b[0;34m\u001b[0m\n\u001b[1;32m      1\u001b[0m \u001b[0mi\u001b[0m \u001b[0;34m=\u001b[0m \u001b[0;34m'a'\u001b[0m\u001b[0;34m\u001b[0m\u001b[0;34m\u001b[0m\u001b[0m\n\u001b[0;32m----> 2\u001b[0;31m \u001b[0msum\u001b[0m\u001b[0;34m(\u001b[0m\u001b[0mi\u001b[0m\u001b[0;34m)\u001b[0m\u001b[0;34m\u001b[0m\u001b[0;34m\u001b[0m\u001b[0m\n\u001b[0m",
      "\u001b[0;31mTypeError\u001b[0m: unsupported operand type(s) for +: 'int' and 'str'"
     ]
    },
    {
     "name": "stdout",
     "output_type": "stream",
     "text": [
      "> \u001b[0;32m<ipython-input-2-59b1bb397993>\u001b[0m(2)\u001b[0;36m<module>\u001b[0;34m()\u001b[0m\n",
      "\u001b[0;32m      1 \u001b[0;31m\u001b[0mi\u001b[0m \u001b[0;34m=\u001b[0m \u001b[0;34m'a'\u001b[0m\u001b[0;34m\u001b[0m\u001b[0;34m\u001b[0m\u001b[0m\n",
      "\u001b[0m\u001b[0;32m----> 2 \u001b[0;31m\u001b[0msum\u001b[0m\u001b[0;34m(\u001b[0m\u001b[0mi\u001b[0m\u001b[0;34m)\u001b[0m\u001b[0;34m\u001b[0m\u001b[0;34m\u001b[0m\u001b[0m\n",
      "\u001b[0m\n",
      "ipdb> i\n",
      "'a'\n",
      "ipdb> q\n"
     ]
    }
   ],
   "source": [
    "i = 'a'\n",
    "sum(i)"
   ]
  },
  {
   "cell_type": "markdown",
   "metadata": {
    "slideshow": {
     "slide_type": "subslide"
    }
   },
   "source": [
    "We used a jupyter notebook to create this slideshow ! 😁\n",
    "\n",
    "here's the command to create and launch your slideshows : \n",
    "\n",
    "```jupyter nbconvert notebook.ipynb --to slides --post serve ``` \n"
   ]
  },
  {
   "cell_type": "markdown",
   "metadata": {
    "slideshow": {
     "slide_type": "slide"
    }
   },
   "source": [
    "Okey ! Now that we know the fundamental tools we're going to work with, let's discover some important data science packages and how to use them in a concrete example ! "
   ]
  }
 ],
 "metadata": {
  "celltoolbar": "Slideshow",
  "kernelspec": {
   "display_name": "Python 3",
   "language": "python",
   "name": "python3"
  },
  "language_info": {
   "codemirror_mode": {
    "name": "ipython",
    "version": 3
   },
   "file_extension": ".py",
   "mimetype": "text/x-python",
   "name": "python",
   "nbconvert_exporter": "python",
   "pygments_lexer": "ipython3",
   "version": "3.7.7"
  }
 },
 "nbformat": 4,
 "nbformat_minor": 4
}
