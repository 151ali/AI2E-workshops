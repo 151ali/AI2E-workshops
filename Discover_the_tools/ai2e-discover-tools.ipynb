{
 "cells": [
  {
   "cell_type": "markdown",
   "metadata": {
    "slideshow": {
     "slide_type": "slide"
    }
   },
   "source": [
    "<img src=\"../assets/images/Cover.png\" alt=\"Cover\" title=\"AI2E Cover\" />"
   ]
  },
  {
   "cell_type": "markdown",
   "metadata": {
    "slideshow": {
     "slide_type": "slide"
    }
   },
   "source": [
    "## AI2E - 1 - Discover the tools \n",
    "This is the first notebook of a serie of Machine learning workshops. To start our journey in the best way possible, we will get to know the tools we're going to work with : Anaconda, Jupyter Notebook. We will conclude this workshop by going through a small algerian dataset and getting to know interesting python packages that will help us explore the datasets and study them. \n",
    "\n",
    "### Content \n",
    "1. Python Cheat Sheet \n",
    "2. What is Anaconda ?  \n",
    "2. What is Jupyter Notebook ? How can I use it ? \n",
    "3. Welcome to NumPy \n",
    "4. Data exploration (Part 1) "
   ]
  },
  {
   "cell_type": "markdown",
   "metadata": {
    "slideshow": {
     "slide_type": "slide"
    }
   },
   "source": [
    "## 1. Python Cheat Sheet"
   ]
  },
  {
   "cell_type": "markdown",
   "metadata": {
    "colab_type": "text",
    "id": "bzBP5ITt08qg",
    "slideshow": {
     "slide_type": "slide"
    }
   },
   "source": [
    "## Why is Python so popular ?\n",
    "\n",
    "- High-level programming language.\n",
    "- Python is a dynamically typed language: \n",
    "- Python Has Amazing Libraries.\n",
    "- IPython Notebooks for interactive data analysis modeling.\n",
    "- Extensively used in the industry.\n",
    "- Python Has a Healthy, Active and Supportive Community.\n",
    "- General purpose language ( not like R which is for statistics )."
   ]
  },
  {
   "cell_type": "markdown",
   "metadata": {
    "colab_type": "text",
    "id": "xP31swbFUrLF",
    "slideshow": {
     "slide_type": "slide"
    }
   },
   "source": [
    "## Starting up with python\n",
    "<img width=\"450\" src=\"./images/meme.png\" />"
   ]
  },
  {
   "cell_type": "markdown",
   "metadata": {
    "colab_type": "text",
    "id": "8TqBeFCGXZcN",
    "slideshow": {
     "slide_type": "slide"
    }
   },
   "source": [
    "Here are some links for some good resources to come back to when you need something:\n",
    "\n",
    "[The official python documentation.](https://docs.python.org/3/tutorial/)\n",
    "\n",
    "[W3schools.](https://www.w3schools.com/python/)\n",
    "\n",
    "[Tutorialspoint. ](https://www.tutorialspoint.com/python/index.htm)\n",
    "\n",
    "[French version of the official documentation.](https://docs.python.org/fr/3/tutorial/)"
   ]
  },
  {
   "cell_type": "markdown",
   "metadata": {
    "colab_type": "text",
    "id": "gYT76n1V08qt",
    "slideshow": {
     "slide_type": "slide"
    }
   },
   "source": [
    "#### Python data types\n",
    "Types of data commonly used in python are: Strings, numbers (integers, floats..), and booleans."
   ]
  },
  {
   "cell_type": "code",
   "execution_count": null,
   "metadata": {
    "colab": {},
    "colab_type": "code",
    "id": "mbWcL50y08qw",
    "slideshow": {
     "slide_type": "subslide"
    }
   },
   "outputs": [],
   "source": [
    "name = \"Tom\"\n",
    "age = 25\n",
    "isMale = True "
   ]
  },
  {
   "cell_type": "markdown",
   "metadata": {
    "colab_type": "text",
    "id": "cpssh-_L08q0",
    "slideshow": {
     "slide_type": "slide"
    }
   },
   "source": [
    "#### Python Structures \n",
    "\n",
    "##### lists:"
   ]
  },
  {
   "cell_type": "code",
   "execution_count": null,
   "metadata": {
    "colab": {},
    "colab_type": "code",
    "id": "ZA-2btbD08q2",
    "slideshow": {
     "slide_type": "subslide"
    }
   },
   "outputs": [],
   "source": [
    "libraries = [\"numpy\", \"pandas\", \"scipy\", \"matplotlib\"]\n",
    "\n",
    "for lib in libraries:\n",
    "    print(lib)\n",
    "\n",
    "randomList = [\"Tommy\", 25, True]\n",
    "print(randomList)"
   ]
  },
  {
   "cell_type": "markdown",
   "metadata": {
    "colab_type": "text",
    "id": "L-NAso_308q5",
    "slideshow": {
     "slide_type": "slide"
    }
   },
   "source": [
    "##### Tuples:"
   ]
  },
  {
   "cell_type": "code",
   "execution_count": null,
   "metadata": {
    "colab": {},
    "colab_type": "code",
    "id": "qxWUlANu08q7",
    "slideshow": {
     "slide_type": "subslide"
    }
   },
   "outputs": [],
   "source": [
    "coordinates = (4,5)"
   ]
  },
  {
   "cell_type": "markdown",
   "metadata": {
    "colab_type": "text",
    "id": "lsxd78Rx08q9",
    "slideshow": {
     "slide_type": "slide"
    }
   },
   "source": [
    "##### Dictionnaries:"
   ]
  },
  {
   "cell_type": "code",
   "execution_count": null,
   "metadata": {
    "colab": {},
    "colab_type": "code",
    "id": "IYqgt5QX08q-",
    "slideshow": {
     "slide_type": "subslide"
    }
   },
   "outputs": [],
   "source": [
    "monthConversions = {\"Jan\": \"January\", \"Feb\": \"February\", \"Mar\": \"March\"}"
   ]
  },
  {
   "cell_type": "markdown",
   "metadata": {
    "colab_type": "text",
    "id": "OBsIvkd-08rB",
    "slideshow": {
     "slide_type": "slide"
    }
   },
   "source": [
    "##### We can combine lists with tuples and dictionnaries"
   ]
  },
  {
   "cell_type": "code",
   "execution_count": null,
   "metadata": {
    "colab": {},
    "colab_type": "code",
    "id": "bMBOxH3W08rC",
    "slideshow": {
     "slide_type": "subslide"
    }
   },
   "outputs": [],
   "source": [
    "coordinates = [(4,5), (8,6), (9,5), {\"Jan\": \"January\"}]"
   ]
  },
  {
   "cell_type": "markdown",
   "metadata": {
    "colab_type": "text",
    "id": "rtQLKrQk08rF",
    "slideshow": {
     "slide_type": "slide"
    }
   },
   "source": [
    "#### Operators\n",
    "We can use arithmetic operations between two numbers:"
   ]
  },
  {
   "cell_type": "code",
   "execution_count": null,
   "metadata": {
    "colab": {},
    "colab_type": "code",
    "id": "tkHGEnHR08rF",
    "slideshow": {
     "slide_type": "subslide"
    }
   },
   "outputs": [],
   "source": [
    "a = 15; b = 2\n",
    "print(\"a + b = \" + str(a+b))\n",
    "print(\"a * b = \" + str(a*b))\n",
    "print(\"a - b = \" + str(a-b))\n",
    "print(\"a / b = \" + str(a/b))\n",
    "print(\"a % b = \" + str(a%b))\n",
    "print(\"a ^ b = \" + str(a**b))"
   ]
  },
  {
   "cell_type": "markdown",
   "metadata": {
    "colab_type": "text",
    "id": "SFLbwfnq08rJ",
    "slideshow": {
     "slide_type": "slide"
    }
   },
   "source": [
    "Or any other operators like: \n",
    "\n",
    "1. Comparison ( ==, !=, >, <, >=, <=) \n",
    "2. Assignment (=, +=, -=, *=, /=, %=...)\n",
    "3. Bitwise (&, |, ^, ~,...)\n",
    "4. Logical (and, or, not)"
   ]
  },
  {
   "cell_type": "markdown",
   "metadata": {
    "colab_type": "text",
    "id": "o59yEx9H08rM",
    "slideshow": {
     "slide_type": "slide"
    }
   },
   "source": [
    "#### Control Flow\n",
    "\n",
    "1. if statements:\n",
    "\n",
    "    if statment:\n",
    "        //code\n",
    "    else:\n",
    "        //more code"
   ]
  },
  {
   "cell_type": "code",
   "execution_count": null,
   "metadata": {
    "colab": {
     "base_uri": "https://localhost:8080/",
     "height": 34
    },
    "colab_type": "code",
    "id": "ozMTTNz208rM",
    "outputId": "7d2e02f4-277a-4bdc-bc06-ceadd1852dd0",
    "slideshow": {
     "slide_type": "subslide"
    }
   },
   "outputs": [],
   "source": [
    "if isMale:\n",
    "    print(\"it's a male.\")\n",
    "else:\n",
    "    print(\"it's not.\")"
   ]
  },
  {
   "cell_type": "markdown",
   "metadata": {
    "colab_type": "text",
    "id": "QkojHDoG08rQ",
    "slideshow": {
     "slide_type": "slide"
    }
   },
   "source": [
    "2. for and while statements:"
   ]
  },
  {
   "cell_type": "code",
   "execution_count": null,
   "metadata": {
    "colab": {},
    "colab_type": "code",
    "id": "Ojv4LiK608rQ",
    "slideshow": {
     "slide_type": "subslide"
    }
   },
   "outputs": [],
   "source": [
    "for letter in name:\n",
    "    print(letter)"
   ]
  },
  {
   "cell_type": "code",
   "execution_count": null,
   "metadata": {
    "colab": {},
    "colab_type": "code",
    "id": "m12U0MNc08rT",
    "slideshow": {
     "slide_type": "subslide"
    }
   },
   "outputs": [],
   "source": [
    "for lib in libraries:\n",
    "    print(lib, len(lib))"
   ]
  },
  {
   "cell_type": "code",
   "execution_count": null,
   "metadata": {
    "colab": {},
    "colab_type": "code",
    "id": "4RIbNtnq08rW",
    "slideshow": {
     "slide_type": "subslide"
    }
   },
   "outputs": [],
   "source": [
    "for index in range(5):\n",
    "    print(index)"
   ]
  },
  {
   "cell_type": "code",
   "execution_count": null,
   "metadata": {
    "colab": {},
    "colab_type": "code",
    "id": "_HcGtsJe08rZ",
    "slideshow": {
     "slide_type": "subslide"
    }
   },
   "outputs": [],
   "source": [
    "index = 0\n",
    "while index <= 5:\n",
    "    print(index)\n",
    "    index += 1"
   ]
  },
  {
   "cell_type": "markdown",
   "metadata": {
    "colab_type": "text",
    "id": "m9LjvA4M08re",
    "slideshow": {
     "slide_type": "slide"
    }
   },
   "source": [
    "3. Break and continue statement:"
   ]
  },
  {
   "cell_type": "code",
   "execution_count": null,
   "metadata": {
    "colab": {},
    "colab_type": "code",
    "id": "qNFFcsRt08rf",
    "slideshow": {
     "slide_type": "subslide"
    }
   },
   "outputs": [],
   "source": [
    "for n in range(2, 10):\n",
    "    for x in range(2, n):\n",
    "         if n % x == 0:\n",
    "             print(n, 'equals', x, '*', n//x)\n",
    "             break\n",
    "    else:\n",
    "         # loop fell through without finding a factor\n",
    "        print(n, 'is a prime number')"
   ]
  },
  {
   "cell_type": "code",
   "execution_count": null,
   "metadata": {
    "colab": {},
    "colab_type": "code",
    "id": "VxN_eKjs08rh",
    "slideshow": {
     "slide_type": "subslide"
    }
   },
   "outputs": [],
   "source": [
    "for num in range(2, 10):\n",
    "    if num % 2 == 0:\n",
    "        print(\"Found an even number\", num)\n",
    "        continue\n",
    "    print(\"Found a number\", num)"
   ]
  },
  {
   "cell_type": "markdown",
   "metadata": {
    "colab_type": "text",
    "id": "JMqXiSjp08rj",
    "slideshow": {
     "slide_type": "slide"
    }
   },
   "source": [
    "4. Defining Functions:"
   ]
  },
  {
   "cell_type": "code",
   "execution_count": null,
   "metadata": {
    "colab": {},
    "colab_type": "code",
    "id": "omRph1hS08rk",
    "slideshow": {
     "slide_type": "subslide"
    }
   },
   "outputs": [],
   "source": [
    "def greetings(name):\n",
    "    print(\"Hello \" + name)\n",
    "    \n",
    "def addition(x,y=5):\n",
    "    return x+y\n",
    "    \n",
    "greetings(\"Afif\")\n",
    "print(addition(5))"
   ]
  },
  {
   "cell_type": "markdown",
   "metadata": {
    "colab_type": "text",
    "id": "9aBrr3Qm08ry",
    "slideshow": {
     "slide_type": "slide"
    }
   },
   "source": [
    "5. Exceptions:"
   ]
  },
  {
   "cell_type": "code",
   "execution_count": null,
   "metadata": {
    "colab": {},
    "colab_type": "code",
    "id": "Tw6Fbuhi08rz",
    "slideshow": {
     "slide_type": "subslide"
    }
   },
   "outputs": [],
   "source": [
    "try:\n",
    "    f = open(\"python/data.json\", \"a\")\n",
    "    f.write(\"{},\")\n",
    "    f.close()\n",
    "except FileNotFoundError as err:\n",
    "    print(err)"
   ]
  },
  {
   "cell_type": "markdown",
   "metadata": {
    "colab_type": "text",
    "id": "yqTWGV3Z08r5",
    "slideshow": {
     "slide_type": "slide"
    }
   },
   "source": [
    "### Classes:\n",
    "\n",
    "We use the key word \"class\" to define a class e.g:"
   ]
  },
  {
   "cell_type": "code",
   "execution_count": null,
   "metadata": {
    "colab": {},
    "colab_type": "code",
    "id": "ftBp4zij08r6",
    "slideshow": {
     "slide_type": "subslide"
    }
   },
   "outputs": [],
   "source": [
    "class Driver:\n",
    "    def __init__(self, name, car, rating):\n",
    "        self.name = name\n",
    "        self.car = car\n",
    "        self.rating = rating\n",
    "    def printName(self):\n",
    "        print(self.name)\n",
    "        \n",
    "Aymen = Driver(\"afif\", \"404\", 5)\n",
    "print(Aymen.name)\n",
    "Aymen.printName()"
   ]
  },
  {
   "cell_type": "markdown",
   "metadata": {
    "colab_type": "text",
    "id": "68pDWyjN08r-",
    "slideshow": {
     "slide_type": "slide"
    }
   },
   "source": [
    "We can define other functions inside the class:"
   ]
  },
  {
   "cell_type": "code",
   "execution_count": null,
   "metadata": {
    "colab": {},
    "colab_type": "code",
    "id": "ZZ2z-Lvi08r_",
    "slideshow": {
     "slide_type": "subslide"
    }
   },
   "outputs": [],
   "source": [
    "class Client:\n",
    "    def order_ride(self):\n",
    "        print(\"your ride is on the way\")\n",
    "\n",
    "    def rate_driver(self):\n",
    "        print(\"your rating has been submited\")\n"
   ]
  },
  {
   "cell_type": "markdown",
   "metadata": {
    "colab_type": "text",
    "id": "7NF3UV8O08sB",
    "slideshow": {
     "slide_type": "slide"
    }
   },
   "source": [
    "For inheritance between two classes:"
   ]
  },
  {
   "cell_type": "code",
   "execution_count": null,
   "metadata": {
    "colab": {},
    "colab_type": "code",
    "id": "_ja0wpPo08sC",
    "slideshow": {
     "slide_type": "subslide"
    }
   },
   "outputs": [],
   "source": [
    "class VipClient(Client):\n",
    "\n",
    "    def order_cool_car(self):\n",
    "        print(\"your lambo is on the way\")\n",
    "\n",
    "\n",
    "    def order_helicopter(self):\n",
    "        print(\"your helicopter is coming to get you\")\n",
    "        \n",
    "        \n",
    "Aymen = VipClient()\n",
    "Aymen.order_cool_car()\n",
    "    "
   ]
  },
  {
   "cell_type": "markdown",
   "metadata": {
    "slideshow": {
     "slide_type": "slide"
    }
   },
   "source": [
    "## 2. What is Anaconda ? \n",
    "\n",
    "[Anaconda](https://www.anaconda.com/) is a distribution of packages built for data science. It comes with conda, a package and environment manager. You'll be using conda to create environments for isolating your projects that use different versions of Python and/or different packages. You'll also use it to install, uninstall, and update packages in your environments. Using Anaconda has made my life working with data much more pleasant. \n",
    "\n",
    "When working on different projects on the same computer you come across a pretty complicated issue where 2 projects use the same package but in 2 separate versions (For example Pytorch 0.4 VS Pytorch 1.0). One solution is to use [virtualenv](https://virtualenv.pypa.io/en/latest/). It lets you create two isolated Python environment for each project. \n",
    "Although virtualenv works even for data science projects, in this situation Anaconda is the way to go. It is specifically built for Data projects. "
   ]
  },
  {
   "cell_type": "markdown",
   "metadata": {
    "slideshow": {
     "slide_type": "subslide"
    }
   },
   "source": [
    "\n",
    "#### Install Anaconda/Miniconda \n",
    "\n",
    "**Download** the latest version of `miniconda` that matches your system.\n",
    "\n",
    "|        | Linux | Mac | Windows | \n",
    "|--------|-------|-----|---------|\n",
    "| 64-bit | [64-bit (bash installer)][lin64] | [64-bit (bash installer)][mac64] | [64-bit (exe installer)][win64]\n",
    "| 32-bit | [32-bit (bash installer)][lin32] |  | [32-bit (exe installer)][win32]\n",
    "\n",
    "[win64]: https://repo.continuum.io/miniconda/Miniconda3-latest-Windows-x86_64.exe\n",
    "[win32]: https://repo.continuum.io/miniconda/Miniconda3-latest-Windows-x86.exe\n",
    "[mac64]: https://repo.continuum.io/miniconda/Miniconda3-latest-MacOSX-x86_64.sh\n",
    "[lin64]: https://repo.continuum.io/miniconda/Miniconda3-latest-Linux-x86_64.sh\n",
    "[lin32]: https://repo.continuum.io/miniconda/Miniconda3-latest-Linux-x86.sh\n",
    "\n",
    "**Install** [miniconda](http://conda.pydata.org/miniconda.html) on your machine. Detailed instructions:\n",
    "\n",
    "- **Linux:** http://conda.pydata.org/docs/install/quick.html#linux-miniconda-install\n",
    "- **Mac:** http://conda.pydata.org/docs/install/quick.html#os-x-miniconda-install\n",
    "- **Windows:** http://conda.pydata.org/docs/install/quick.html#windows-miniconda-install"
   ]
  },
  {
   "cell_type": "markdown",
   "metadata": {
    "slideshow": {
     "slide_type": "subslide"
    }
   },
   "source": [
    "#### Create an environment\n",
    "It is very simple to create an environment using Conda. Here's the general structure of the create command with the most important options : \n",
    "\n",
    "``` conda create -n [NameofEnv] python=[version] [nameofPackage]=[version] --prefix [path\\to\\env\\directory]```\n",
    "\n",
    "By default, the environment created by conda resides in /Users/user-name/miniconda3/envs. "
   ]
  },
  {
   "cell_type": "markdown",
   "metadata": {
    "slideshow": {
     "slide_type": "subslide"
    }
   },
   "source": [
    "#### What is an environment.yml file ? \n",
    "An evironment.yml file is configuration file for your python environment created with Conda. It contains the name of the environment and the packages it contains.\n",
    "\n",
    "<img src=\"images/env.png\" width=\"60%\">\n",
    "\n",
    "    channels : from where we get these packages \n",
    "    \n",
    "You can create an environment from a configuration file as follow : \n",
    "```conda env create -f environment.yml``` \n",
    "\n",
    "It also recommended, to include the requirement.txt for your project for those who doesn't use Conda. \n",
    "(to get this file ``` pip freeze > requirements.txt ``` )"
   ]
  },
  {
   "cell_type": "markdown",
   "metadata": {
    "slideshow": {
     "slide_type": "subslide"
    }
   },
   "source": [
    "#### Install additional Packages \n",
    "#### Conda Revisions 👍 \n",
    "Conda not only helps you create isolated environment, but it keeps track of the packages installed. This allows you to rollback to another revision. \n",
    "\n",
    "<ins>Example : </ins>\n",
    "\n",
    "1. We create an environment names 'test' : ``` conda create -n test python=3 ```\n",
    "2. We activate the environment : ``` conda activate test ```\n",
    "3. We install numpy : ``` conda install numpy```\n",
    "4. We install pandas : ``` conda install pandas```\n",
    "5. The list of revisions is as follow : ```conda list --revisions``` \n",
    "\n",
    "We notice each revision with an id. If we want to get back to how packages were in rev 1, we simply call this command : ```conda install --revision 1``` \n",
    "\n",
    "We can also recheck the list of revisions to ensure the changes were made. "
   ]
  },
  {
   "cell_type": "markdown",
   "metadata": {
    "slideshow": {
     "slide_type": "subslide"
    }
   },
   "source": [
    "<img src=\"images/revisions.png\" align=\"center\" width=\"40%\">"
   ]
  },
  {
   "cell_type": "markdown",
   "metadata": {
    "slideshow": {
     "slide_type": "subslide"
    }
   },
   "source": [
    "#### Additional Information \n",
    "Conda documentation is super clear, we encourage you to use it whenever it is necessary : [https://docs.anaconda.com/](https://docs.anaconda.com/) \n",
    "\n",
    "You can check here a [cheat sheet](https://docs.conda.io/projects/conda/en/4.6.0/_downloads/52a95608c49671267e40c689e0bc00ca/conda-cheatsheet.pdf) gathering all the important commands you need to know. \n",
    "\n",
    "If your curiosity hasn’t been satisfied and you still want to know more about virtual environments, we highly recommend : \n",
    "* [Some Myths and Misconceptions about Conda](https://jakevdp.github.io/blog/2016/08/25/conda-myths-and-misconceptions/) 😛 \n",
    "* [Everything you need to know about Anaconda by DZone](https://dzone.com/articles/python-anaconda-tutorial-everything-you-need-to-kn) \n",
    "* Get to know the Anaconda Navigator with [this tutorial](https://linuxhint.com/anaconda-python-tutorial/)\n",
    "    "
   ]
  },
  {
   "cell_type": "markdown",
   "metadata": {
    "slideshow": {
     "slide_type": "slide"
    }
   },
   "source": [
    "## What is Jupyter Notebook ? \n",
    "\n",
    "A [Jupyter Notebook](https://jupyter.org/) is a web application that allows you to combine explanatory text, math equations, code, and visualizations all in one easily sharable document. The name Jupyter comes from the combination of Julia, Python, and R. If you're interested, here's a [list of available kernels](https://github.com/jupyter/jupyter/wiki/Jupyter-kernels).\n",
    "\n",
    "In these kinds of notebooks, when dealing with a data science project, you could download the data, run the code in the notebook, and repeat the analysis or the training as long as you want to in the order you need to. \n",
    "\n",
    "Notebooks have quickly become an essential tool when working with data. You'll find them being used for data cleaning and exploration, visualization, machine learning, and big data analysis. You can find in these repository a lot of examples with the different topics we're going to tackle in AI2E. \n",
    "\n",
    "\n",
    "Without notebooks, your projects will be divided in separate files that contains the documentation, the code and the visualizations. \n",
    "\n",
    "*You don't find it cool yet ? \n",
    "Notebooks are rendered automatically by GitHub !* 😀"
   ]
  },
  {
   "cell_type": "markdown",
   "metadata": {
    "slideshow": {
     "slide_type": "subslide"
    }
   },
   "source": [
    "\n",
    "Let's create an example notebook. \n",
    "1. Go to the directory where you want the notebook to be.\n",
    "2. Run the following command : ``` jupyter notebook ``` \n",
    "3. Click on New and choose a kernel (Python3 in our case) \n",
    "4. Create a cell --> Set the type to 'Code'\n",
    "5. add ``` print('Hello World') ``` to the cell \n",
    "6. Run the cell by using shift + Enter or click on the run button on the top. \n",
    "\n"
   ]
  },
  {
   "cell_type": "markdown",
   "metadata": {
    "slideshow": {
     "slide_type": "subslide"
    }
   },
   "source": [
    "#### More info ! 🤓\n",
    "\n",
    "* You'll often want to download it as an HTML file to share with others who aren't using Jupyter. Also, you can download the notebook as a normal Python file where all the code will run like normal. The Markdown and reST formats are great for using notebooks in blogs or documentation.\n",
    "\n",
    "* **Magic Keywords :**\n",
    "    * %timeit : helps timing your code.\n",
    "    * %matplotlib inline : helps show your visialization as a result of a cell run. \n",
    "    * %pdb : enable debugging in the notebook.\n",
    "    * [List of all magic keywords] (https://ipython.readthedocs.io/en/stable/interactive/magics.html) \n",
    "    \n",
    "Let's try the debugging! \n"
   ]
  },
  {
   "cell_type": "code",
   "execution_count": 12,
   "metadata": {
    "slideshow": {
     "slide_type": "slide"
    }
   },
   "outputs": [
    {
     "name": "stdout",
     "output_type": "stream",
     "text": [
      "Automatic pdb calling has been turned ON\n"
     ]
    }
   ],
   "source": [
    "%pdb"
   ]
  },
  {
   "cell_type": "code",
   "execution_count": 13,
   "metadata": {
    "slideshow": {
     "slide_type": "fragment"
    }
   },
   "outputs": [
    {
     "ename": "TypeError",
     "evalue": "unsupported operand type(s) for +: 'int' and 'str'",
     "output_type": "error",
     "traceback": [
      "\u001b[0;31m---------------------------------------------------------------------------\u001b[0m",
      "\u001b[0;31mTypeError\u001b[0m                                 Traceback (most recent call last)",
      "\u001b[0;32m<ipython-input-13-71b7762e266f>\u001b[0m in \u001b[0;36m<module>\u001b[0;34m\u001b[0m\n\u001b[1;32m      1\u001b[0m \u001b[0mi\u001b[0m \u001b[0;34m=\u001b[0m \u001b[0;34m'ab'\u001b[0m\u001b[0;34m\u001b[0m\u001b[0;34m\u001b[0m\u001b[0m\n\u001b[0;32m----> 2\u001b[0;31m \u001b[0msum\u001b[0m\u001b[0;34m(\u001b[0m\u001b[0mi\u001b[0m\u001b[0;34m)\u001b[0m\u001b[0;34m\u001b[0m\u001b[0;34m\u001b[0m\u001b[0m\n\u001b[0m",
      "\u001b[0;31mTypeError\u001b[0m: unsupported operand type(s) for +: 'int' and 'str'"
     ]
    },
    {
     "name": "stdout",
     "output_type": "stream",
     "text": [
      "> \u001b[0;32m<ipython-input-13-71b7762e266f>\u001b[0m(2)\u001b[0;36m<module>\u001b[0;34m()\u001b[0m\n",
      "\u001b[0;32m      1 \u001b[0;31m\u001b[0mi\u001b[0m \u001b[0;34m=\u001b[0m \u001b[0;34m'ab'\u001b[0m\u001b[0;34m\u001b[0m\u001b[0;34m\u001b[0m\u001b[0m\n",
      "\u001b[0m\u001b[0;32m----> 2 \u001b[0;31m\u001b[0msum\u001b[0m\u001b[0;34m(\u001b[0m\u001b[0mi\u001b[0m\u001b[0;34m)\u001b[0m\u001b[0;34m\u001b[0m\u001b[0;34m\u001b[0m\u001b[0m\n",
      "\u001b[0m\n",
      "ipdb> i\n",
      "'ab'\n",
      "ipdb> q\n"
     ]
    }
   ],
   "source": [
    "i = 'ab'\n",
    "sum(i)"
   ]
  },
  {
   "cell_type": "markdown",
   "metadata": {
    "slideshow": {
     "slide_type": "subslide"
    }
   },
   "source": [
    "We used a jupyter notebook to create this slideshow ! 😁\n",
    "\n",
    "here's the command to create and launch your slideshows : \n",
    "\n",
    "```jupyter nbconvert notebook.ipynb --to slides --post serve ``` \n"
   ]
  },
  {
   "cell_type": "markdown",
   "metadata": {
    "slideshow": {
     "slide_type": "slide"
    }
   },
   "source": [
    "## Google Colaboratory \n",
    "\n",
    "**I want to follow the workshops but I can't download Anaconda or Jupyter notebook !** 🤔 \n",
    "\n",
    "Don't worry, Google is always here for you :p checkout [google colaboratory](https://colab.research.google.com/)"
   ]
  },
  {
   "cell_type": "markdown",
   "metadata": {
    "slideshow": {
     "slide_type": "slide"
    }
   },
   "source": [
    "Okey ! Now that we know the fundamental tools we're going to work with, let's discover some important data science packages and how to use them in a concrete example ! "
   ]
  }
 ],
 "metadata": {
  "celltoolbar": "Slideshow",
  "kernelspec": {
   "display_name": "Python 3",
   "language": "python",
   "name": "python3"
  },
  "language_info": {
   "codemirror_mode": {
    "name": "ipython",
    "version": 3
   },
   "file_extension": ".py",
   "mimetype": "text/x-python",
   "name": "python",
   "nbconvert_exporter": "python",
   "pygments_lexer": "ipython3",
   "version": "3.7.4"
  }
 },
 "nbformat": 4,
 "nbformat_minor": 4
}
